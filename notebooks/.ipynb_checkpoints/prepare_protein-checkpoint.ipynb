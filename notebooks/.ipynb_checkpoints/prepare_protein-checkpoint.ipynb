{
 "cells": [
  {
   "cell_type": "code",
   "execution_count": 1,
   "id": "9b2180ed",
   "metadata": {},
   "outputs": [
    {
     "name": "stderr",
     "output_type": "stream",
     "text": [
      "Warning: importing 'simtk.openmm' is deprecated.  Import 'openmm' instead.\n"
     ]
    }
   ],
   "source": [
    "import os\n",
    "import re\n",
    "import sys\n",
    "import getopt\n",
    "import numpy\n",
    "import scipy\n",
    "import dotenv\n",
    "import parmed\n",
    "import pytraj\n",
    "import pathlib\n",
    "import itertools\n",
    "import subprocess\n",
    "import scipy.spatial\n",
    "import subprocess as sp\n",
    "\n",
    "work_folder = '/md/tmp'\n",
    "# output files\n",
    "image_pdb = os.path.join(work_folder,'image.pdb')\n",
    "trim_pdb = os.path.join(work_folder,'trim.pdb') # for reduce\n",
    "reduce_pdb = os.path.join(work_folder,'reduce.pdb')\n",
    "reduce_log = os.path.join(work_folder,'reduce.log')\n",
    "image_pka = os.path.join(work_folder,'image.pka')\n",
    "image_propka_input = os.path.join(work_folder,'image.propka_input')\n",
    "tleap_pdb = os.path.join(work_folder,'tleap.pdb')\n",
    "protein_parm7 = os.path.join(work_folder,'protein.parm7')\n",
    "protein_crd = os.path.join(work_folder,'protein.crd')\n",
    "protein_lib = os.path.join(work_folder,'protein.lib')\n",
    "protein_pqr = os.path.join(work_folder,'protein.pqr')\n",
    "protein_pdb = os.path.join(work_folder,'protein.pdb')\n",
    "protein_pdbqt = os.path.join(work_folder,'protein.pdbqt')\n",
    "\n",
    "ENV_FILE_PATH = '/md/.env'\n",
    "dotenv.load_dotenv(str(ENV_FILE_PATH))\n",
    "environ = os.environ"
   ]
  },
  {
   "cell_type": "code",
   "execution_count": 3,
   "id": "fd648cc9",
   "metadata": {},
   "outputs": [],
   "source": [
    "os.makedirs('/md/tmp', exist_ok=True)"
   ]
  },
  {
   "cell_type": "markdown",
   "id": "0639e7ca",
   "metadata": {},
   "source": [
    "# 1. Initial PDB Preparation and Renumbering\n"
   ]
  },
  {
   "cell_type": "code",
   "execution_count": 2,
   "id": "4c34fcb3",
   "metadata": {},
   "outputs": [],
   "source": [
    "import parmed\n",
    "\n",
    "model_pdb = '/md/output/2SRC/model.pdb'\n",
    "# --------------------------------------------------------------------------------\n",
    "# Extract protein from \"model.pdb\".\n",
    "# Residue numbers are reorder at this stage.\n",
    "struct = parmed.load_file(model_pdb)\n",
    "struct.save(image_pdb, format='PDB', renumber=True, standard_resnames=True, overwrite=True)"
   ]
  },
  {
   "cell_type": "code",
   "execution_count": 4,
   "id": "c3d7f616",
   "metadata": {},
   "outputs": [
    {
     "data": {
      "text/plain": [
       "<Structure 3608 atoms; 449 residues; 3694 bonds; NOT parametrized>"
      ]
     },
     "execution_count": 4,
     "metadata": {},
     "output_type": "execute_result"
    }
   ],
   "source": [
    "struct"
   ]
  },
  {
   "cell_type": "code",
   "execution_count": 3,
   "id": "fdd45b93",
   "metadata": {},
   "outputs": [
    {
     "data": {
      "text/plain": [
       "'/md/output/2SRC/model.pdb'"
      ]
     },
     "execution_count": 3,
     "metadata": {},
     "output_type": "execute_result"
    }
   ],
   "source": [
    "model_pdb"
   ]
  },
  {
   "cell_type": "markdown",
   "id": "69ab7b4e",
   "metadata": {},
   "source": [
    "# 2. Hydrogen Addition and Histidine Protonation (using Reduce)"
   ]
  },
  {
   "cell_type": "code",
   "execution_count": 5,
   "id": "1b4d6e2a",
   "metadata": {},
   "outputs": [],
   "source": [
    "from prepare_protein import pytraj_detect_Reduce_HIX\n",
    "\n",
    "# --------------------------------------------------------------------------------\n",
    "# Run Reduce and get modificated residues.\n",
    "# Not using the flipped pdb (\"reduce_pdb\") in the following steps\n",
    "# to preserve the original orientation of residues.\n",
    "\n",
    "# Step 1: Remove existing hydrogens\n",
    "command = '{} -Trim {} > {} 2> {}'.format(environ['REDUCE_EXE'], image_pdb, trim_pdb, reduce_log)\n",
    "os.system(command)\n",
    "# Step 2: add H, including His sc NH, then rotate and flip groups and \n",
    "# add H and rotate and flip NQH groups\n",
    "command = '{} -BUILD -FLIP {} > {} 2> {}'.format(environ['REDUCE_EXE'], trim_pdb, reduce_pdb, reduce_log)\n",
    "os.system(command)\n",
    "\n",
    "traj_reduce = pytraj.load(reduce_pdb)\n",
    "reduce_modifications = pytraj_detect_Reduce_HIX(traj_reduce.top)"
   ]
  },
  {
   "cell_type": "code",
   "execution_count": 8,
   "id": "3eb68d85",
   "metadata": {},
   "outputs": [
    {
     "data": {
      "text/plain": [
       "(<Topology: 7160 atoms, 449 residues, 1 mols, non-PBC>,\n",
       " [('HIS', '38', 'HIE'),\n",
       "  ('HIS', '117', 'HIE'),\n",
       "  ('HIS', '149', 'HIE'),\n",
       "  ('HIS', '155', 'HIE'),\n",
       "  ('HIS', '235', 'HIE'),\n",
       "  ('HIS', '300', 'HIE'),\n",
       "  ('HIS', '408', 'HIE')])"
      ]
     },
     "execution_count": 8,
     "metadata": {},
     "output_type": "execute_result"
    }
   ],
   "source": [
    "traj_reduce.top, reduce_modifications"
   ]
  },
  {
   "cell_type": "markdown",
   "id": "91861fa4",
   "metadata": {},
   "source": [
    "# 3. Ionizable Residue Protonation State Determination (using Propka)"
   ]
  },
  {
   "cell_type": "code",
   "execution_count": 11,
   "id": "5d42b6bf",
   "metadata": {},
   "outputs": [
    {
     "data": {
      "text/plain": [
       "[]"
      ]
     },
     "execution_count": 11,
     "metadata": {},
     "output_type": "execute_result"
    }
   ],
   "source": [
    "from prepare_protein import Propka_get_propka_Amber_protonation_state\n",
    "# --------------------------------------------------------------------------------\n",
    "# Run propka31 and get modificated residues\n",
    "command = '{} {}'.format(environ['PROPKA31_EXE'], image_pdb)\n",
    "child = sp.Popen(command.split(), stdin=sp.PIPE, stdout=sp.PIPE, stderr=sp.PIPE, cwd=work_folder)\n",
    "child.communicate()\n",
    "#     os.system(command)\n",
    "\n",
    "propka_modifications = Propka_get_propka_Amber_protonation_state(image_pka)\n",
    "propka_modifications\n",
    "# Why don't we take reduce_pdb?"
   ]
  },
  {
   "cell_type": "markdown",
   "id": "7d60f488",
   "metadata": {},
   "source": [
    "# 4. Disulfide Bond Detection"
   ]
  },
  {
   "cell_type": "code",
   "execution_count": 12,
   "id": "05171e59",
   "metadata": {},
   "outputs": [
    {
     "data": {
      "text/plain": [
       "([], [])"
      ]
     },
     "execution_count": 12,
     "metadata": {},
     "output_type": "execute_result"
    }
   ],
   "source": [
    "from prepare_protein import pytraj_detect_disulfide_bond\n",
    "# --------------------------------------------------------------------------------\n",
    "# detect disulfide bonds and get modificated residues\n",
    "traj_image = pytraj.load(image_pdb)\n",
    "disulfide_modifications, disulfide_bonds = pytraj_detect_disulfide_bond(traj_image.top, traj_image.xyz[0])\n",
    "disulfide_modifications, disulfide_bonds\n",
    "# Why don't we take reduce_pdb?"
   ]
  },
  {
   "cell_type": "markdown",
   "id": "125064e9",
   "metadata": {},
   "source": [
    "# 5. Generating TLeap-ready PDB"
   ]
  },
  {
   "cell_type": "code",
   "execution_count": null,
   "id": "656b5f4c",
   "metadata": {},
   "outputs": [],
   "source": [
    "from prepare_protein import ParmEdPDBResnameModifier\n",
    "\n",
    "# --------------------------------------------------------------------------------\n",
    "# Generate modified pdb, \"tleap.pdb\", ready for tleap\n",
    "\"\"\"\n",
    "This step is to change residue names according to step 1,2,3,4\n",
    "\"\"\"\n",
    "\n",
    "struct_image = parmed.load_file(image_pdb)\n",
    "\n",
    "M = ParmEdPDBResnameModifier(struct_image)\n",
    "M.add_modifications(reduce_modifications)\n",
    "M.add_modifications(propka_modifications)\n",
    "M.add_modifications(disulfide_modifications)\n",
    "#print(M.modifications)\n",
    "\n",
    "struct_tleap = M.apply_modifications()['!@H=']\n",
    "struct_tleap.save(tleap_pdb, format='PDB', overwrite=True)\n"
   ]
  },
  {
   "cell_type": "code",
   "execution_count": 43,
   "id": "56b6360a",
   "metadata": {},
   "outputs": [
    {
     "data": {
      "text/plain": [
       "'/md/tmp/tleap.pdb'"
      ]
     },
     "execution_count": 43,
     "metadata": {},
     "output_type": "execute_result"
    }
   ],
   "source": [
    "tleap_pdb"
   ]
  },
  {
   "cell_type": "code",
   "execution_count": 42,
   "id": "5f8d93e9",
   "metadata": {},
   "outputs": [
    {
     "data": {
      "text/plain": [
       "{('HIS', '38'): 'HIE',\n",
       " ('HIS', '117'): 'HIE',\n",
       " ('HIS', '149'): 'HIE',\n",
       " ('HIS', '155'): 'HIE',\n",
       " ('HIS', '235'): 'HIE',\n",
       " ('HIS', '300'): 'HIE',\n",
       " ('HIS', '408'): 'HIE'}"
      ]
     },
     "execution_count": 42,
     "metadata": {},
     "output_type": "execute_result"
    }
   ],
   "source": [
    "M._modifications"
   ]
  },
  {
   "cell_type": "code",
   "execution_count": 16,
   "id": "3ef7e288",
   "metadata": {},
   "outputs": [
    {
     "data": {
      "text/html": [
       "<div>\n",
       "<style scoped>\n",
       "    .dataframe tbody tr th:only-of-type {\n",
       "        vertical-align: middle;\n",
       "    }\n",
       "\n",
       "    .dataframe tbody tr th {\n",
       "        vertical-align: top;\n",
       "    }\n",
       "\n",
       "    .dataframe thead th {\n",
       "        text-align: right;\n",
       "    }\n",
       "</style>\n",
       "<table border=\"1\" class=\"dataframe\">\n",
       "  <thead>\n",
       "    <tr style=\"text-align: right;\">\n",
       "      <th></th>\n",
       "      <th>number</th>\n",
       "      <th>name</th>\n",
       "      <th>type</th>\n",
       "      <th>atomic_number</th>\n",
       "      <th>charge</th>\n",
       "      <th>mass</th>\n",
       "      <th>nb_idx</th>\n",
       "      <th>solvent_radius</th>\n",
       "      <th>screen</th>\n",
       "      <th>occupancy</th>\n",
       "      <th>...</th>\n",
       "      <th>rmin_14</th>\n",
       "      <th>epsilon_14</th>\n",
       "      <th>resname</th>\n",
       "      <th>resid</th>\n",
       "      <th>resnum</th>\n",
       "      <th>chain</th>\n",
       "      <th>segid</th>\n",
       "      <th>xx</th>\n",
       "      <th>xy</th>\n",
       "      <th>xz</th>\n",
       "    </tr>\n",
       "  </thead>\n",
       "  <tbody>\n",
       "    <tr>\n",
       "      <th>0</th>\n",
       "      <td>-1</td>\n",
       "      <td>N</td>\n",
       "      <td></td>\n",
       "      <td>7</td>\n",
       "      <td>0.0</td>\n",
       "      <td>14.0067</td>\n",
       "      <td>0</td>\n",
       "      <td>0.0</td>\n",
       "      <td>0.0</td>\n",
       "      <td>1.0</td>\n",
       "      <td>...</td>\n",
       "      <td>0.0</td>\n",
       "      <td>0.0</td>\n",
       "      <td>THR</td>\n",
       "      <td>0</td>\n",
       "      <td>1</td>\n",
       "      <td>A</td>\n",
       "      <td></td>\n",
       "      <td>33.980</td>\n",
       "      <td>60.240</td>\n",
       "      <td>54.635</td>\n",
       "    </tr>\n",
       "    <tr>\n",
       "      <th>1</th>\n",
       "      <td>-1</td>\n",
       "      <td>CA</td>\n",
       "      <td></td>\n",
       "      <td>6</td>\n",
       "      <td>0.0</td>\n",
       "      <td>12.0107</td>\n",
       "      <td>0</td>\n",
       "      <td>0.0</td>\n",
       "      <td>0.0</td>\n",
       "      <td>1.0</td>\n",
       "      <td>...</td>\n",
       "      <td>0.0</td>\n",
       "      <td>0.0</td>\n",
       "      <td>THR</td>\n",
       "      <td>0</td>\n",
       "      <td>1</td>\n",
       "      <td>A</td>\n",
       "      <td></td>\n",
       "      <td>34.266</td>\n",
       "      <td>58.850</td>\n",
       "      <td>54.128</td>\n",
       "    </tr>\n",
       "    <tr>\n",
       "      <th>2</th>\n",
       "      <td>-1</td>\n",
       "      <td>C</td>\n",
       "      <td></td>\n",
       "      <td>6</td>\n",
       "      <td>0.0</td>\n",
       "      <td>12.0107</td>\n",
       "      <td>0</td>\n",
       "      <td>0.0</td>\n",
       "      <td>0.0</td>\n",
       "      <td>1.0</td>\n",
       "      <td>...</td>\n",
       "      <td>0.0</td>\n",
       "      <td>0.0</td>\n",
       "      <td>THR</td>\n",
       "      <td>0</td>\n",
       "      <td>1</td>\n",
       "      <td>A</td>\n",
       "      <td></td>\n",
       "      <td>33.781</td>\n",
       "      <td>57.820</td>\n",
       "      <td>55.123</td>\n",
       "    </tr>\n",
       "    <tr>\n",
       "      <th>3</th>\n",
       "      <td>-1</td>\n",
       "      <td>O</td>\n",
       "      <td></td>\n",
       "      <td>8</td>\n",
       "      <td>0.0</td>\n",
       "      <td>15.9994</td>\n",
       "      <td>0</td>\n",
       "      <td>0.0</td>\n",
       "      <td>0.0</td>\n",
       "      <td>1.0</td>\n",
       "      <td>...</td>\n",
       "      <td>0.0</td>\n",
       "      <td>0.0</td>\n",
       "      <td>THR</td>\n",
       "      <td>0</td>\n",
       "      <td>1</td>\n",
       "      <td>A</td>\n",
       "      <td></td>\n",
       "      <td>33.366</td>\n",
       "      <td>58.175</td>\n",
       "      <td>56.224</td>\n",
       "    </tr>\n",
       "    <tr>\n",
       "      <th>4</th>\n",
       "      <td>-1</td>\n",
       "      <td>CB</td>\n",
       "      <td></td>\n",
       "      <td>6</td>\n",
       "      <td>0.0</td>\n",
       "      <td>12.0107</td>\n",
       "      <td>0</td>\n",
       "      <td>0.0</td>\n",
       "      <td>0.0</td>\n",
       "      <td>1.0</td>\n",
       "      <td>...</td>\n",
       "      <td>0.0</td>\n",
       "      <td>0.0</td>\n",
       "      <td>THR</td>\n",
       "      <td>0</td>\n",
       "      <td>1</td>\n",
       "      <td>A</td>\n",
       "      <td></td>\n",
       "      <td>35.763</td>\n",
       "      <td>58.641</td>\n",
       "      <td>53.840</td>\n",
       "    </tr>\n",
       "    <tr>\n",
       "      <th>...</th>\n",
       "      <td>...</td>\n",
       "      <td>...</td>\n",
       "      <td>...</td>\n",
       "      <td>...</td>\n",
       "      <td>...</td>\n",
       "      <td>...</td>\n",
       "      <td>...</td>\n",
       "      <td>...</td>\n",
       "      <td>...</td>\n",
       "      <td>...</td>\n",
       "      <td>...</td>\n",
       "      <td>...</td>\n",
       "      <td>...</td>\n",
       "      <td>...</td>\n",
       "      <td>...</td>\n",
       "      <td>...</td>\n",
       "      <td>...</td>\n",
       "      <td>...</td>\n",
       "      <td>...</td>\n",
       "      <td>...</td>\n",
       "      <td>...</td>\n",
       "    </tr>\n",
       "    <tr>\n",
       "      <th>3603</th>\n",
       "      <td>-1</td>\n",
       "      <td>CB</td>\n",
       "      <td></td>\n",
       "      <td>6</td>\n",
       "      <td>0.0</td>\n",
       "      <td>12.0107</td>\n",
       "      <td>0</td>\n",
       "      <td>0.0</td>\n",
       "      <td>0.0</td>\n",
       "      <td>1.0</td>\n",
       "      <td>...</td>\n",
       "      <td>0.0</td>\n",
       "      <td>0.0</td>\n",
       "      <td>LEU</td>\n",
       "      <td>448</td>\n",
       "      <td>449</td>\n",
       "      <td>A</td>\n",
       "      <td></td>\n",
       "      <td>45.512</td>\n",
       "      <td>46.903</td>\n",
       "      <td>94.148</td>\n",
       "    </tr>\n",
       "    <tr>\n",
       "      <th>3604</th>\n",
       "      <td>-1</td>\n",
       "      <td>CG</td>\n",
       "      <td></td>\n",
       "      <td>6</td>\n",
       "      <td>0.0</td>\n",
       "      <td>12.0107</td>\n",
       "      <td>0</td>\n",
       "      <td>0.0</td>\n",
       "      <td>0.0</td>\n",
       "      <td>1.0</td>\n",
       "      <td>...</td>\n",
       "      <td>0.0</td>\n",
       "      <td>0.0</td>\n",
       "      <td>LEU</td>\n",
       "      <td>448</td>\n",
       "      <td>449</td>\n",
       "      <td>A</td>\n",
       "      <td></td>\n",
       "      <td>45.451</td>\n",
       "      <td>45.581</td>\n",
       "      <td>94.946</td>\n",
       "    </tr>\n",
       "    <tr>\n",
       "      <th>3605</th>\n",
       "      <td>-1</td>\n",
       "      <td>CD1</td>\n",
       "      <td></td>\n",
       "      <td>6</td>\n",
       "      <td>0.0</td>\n",
       "      <td>12.0107</td>\n",
       "      <td>0</td>\n",
       "      <td>0.0</td>\n",
       "      <td>0.0</td>\n",
       "      <td>1.0</td>\n",
       "      <td>...</td>\n",
       "      <td>0.0</td>\n",
       "      <td>0.0</td>\n",
       "      <td>LEU</td>\n",
       "      <td>448</td>\n",
       "      <td>449</td>\n",
       "      <td>A</td>\n",
       "      <td></td>\n",
       "      <td>46.718</td>\n",
       "      <td>44.758</td>\n",
       "      <td>94.678</td>\n",
       "    </tr>\n",
       "    <tr>\n",
       "      <th>3606</th>\n",
       "      <td>-1</td>\n",
       "      <td>CD2</td>\n",
       "      <td></td>\n",
       "      <td>6</td>\n",
       "      <td>0.0</td>\n",
       "      <td>12.0107</td>\n",
       "      <td>0</td>\n",
       "      <td>0.0</td>\n",
       "      <td>0.0</td>\n",
       "      <td>1.0</td>\n",
       "      <td>...</td>\n",
       "      <td>0.0</td>\n",
       "      <td>0.0</td>\n",
       "      <td>LEU</td>\n",
       "      <td>448</td>\n",
       "      <td>449</td>\n",
       "      <td>A</td>\n",
       "      <td></td>\n",
       "      <td>45.303</td>\n",
       "      <td>45.788</td>\n",
       "      <td>96.460</td>\n",
       "    </tr>\n",
       "    <tr>\n",
       "      <th>3607</th>\n",
       "      <td>-1</td>\n",
       "      <td>OXT</td>\n",
       "      <td></td>\n",
       "      <td>8</td>\n",
       "      <td>0.0</td>\n",
       "      <td>15.9994</td>\n",
       "      <td>0</td>\n",
       "      <td>0.0</td>\n",
       "      <td>0.0</td>\n",
       "      <td>1.0</td>\n",
       "      <td>...</td>\n",
       "      <td>0.0</td>\n",
       "      <td>0.0</td>\n",
       "      <td>LEU</td>\n",
       "      <td>448</td>\n",
       "      <td>449</td>\n",
       "      <td>A</td>\n",
       "      <td></td>\n",
       "      <td>45.796</td>\n",
       "      <td>49.924</td>\n",
       "      <td>94.126</td>\n",
       "    </tr>\n",
       "  </tbody>\n",
       "</table>\n",
       "<p>3608 rows × 27 columns</p>\n",
       "</div>"
      ],
      "text/plain": [
       "      number name type  atomic_number  charge     mass  nb_idx  \\\n",
       "0         -1    N                   7     0.0  14.0067       0   \n",
       "1         -1   CA                   6     0.0  12.0107       0   \n",
       "2         -1    C                   6     0.0  12.0107       0   \n",
       "3         -1    O                   8     0.0  15.9994       0   \n",
       "4         -1   CB                   6     0.0  12.0107       0   \n",
       "...      ...  ...  ...            ...     ...      ...     ...   \n",
       "3603      -1   CB                   6     0.0  12.0107       0   \n",
       "3604      -1   CG                   6     0.0  12.0107       0   \n",
       "3605      -1  CD1                   6     0.0  12.0107       0   \n",
       "3606      -1  CD2                   6     0.0  12.0107       0   \n",
       "3607      -1  OXT                   8     0.0  15.9994       0   \n",
       "\n",
       "      solvent_radius  screen  occupancy  ...  rmin_14 epsilon_14 resname  \\\n",
       "0                0.0     0.0        1.0  ...      0.0        0.0     THR   \n",
       "1                0.0     0.0        1.0  ...      0.0        0.0     THR   \n",
       "2                0.0     0.0        1.0  ...      0.0        0.0     THR   \n",
       "3                0.0     0.0        1.0  ...      0.0        0.0     THR   \n",
       "4                0.0     0.0        1.0  ...      0.0        0.0     THR   \n",
       "...              ...     ...        ...  ...      ...        ...     ...   \n",
       "3603             0.0     0.0        1.0  ...      0.0        0.0     LEU   \n",
       "3604             0.0     0.0        1.0  ...      0.0        0.0     LEU   \n",
       "3605             0.0     0.0        1.0  ...      0.0        0.0     LEU   \n",
       "3606             0.0     0.0        1.0  ...      0.0        0.0     LEU   \n",
       "3607             0.0     0.0        1.0  ...      0.0        0.0     LEU   \n",
       "\n",
       "      resid  resnum  chain  segid      xx      xy      xz  \n",
       "0         0       1      A         33.980  60.240  54.635  \n",
       "1         0       1      A         34.266  58.850  54.128  \n",
       "2         0       1      A         33.781  57.820  55.123  \n",
       "3         0       1      A         33.366  58.175  56.224  \n",
       "4         0       1      A         35.763  58.641  53.840  \n",
       "...     ...     ...    ...    ...     ...     ...     ...  \n",
       "3603    448     449      A         45.512  46.903  94.148  \n",
       "3604    448     449      A         45.451  45.581  94.946  \n",
       "3605    448     449      A         46.718  44.758  94.678  \n",
       "3606    448     449      A         45.303  45.788  96.460  \n",
       "3607    448     449      A         45.796  49.924  94.126  \n",
       "\n",
       "[3608 rows x 27 columns]"
      ]
     },
     "execution_count": 16,
     "metadata": {},
     "output_type": "execute_result"
    }
   ],
   "source": [
    "import parmed\n",
    "\n",
    "struct = M._struct.copy(parmed.structure.Structure)\n",
    "struct_df = struct.to_dataframe()\n",
    "struct_df"
   ]
  },
  {
   "cell_type": "code",
   "execution_count": 18,
   "id": "8a6053af",
   "metadata": {},
   "outputs": [
    {
     "name": "stdout",
     "output_type": "stream",
     "text": [
      "HIS 38 HIE\n",
      "<Residue HIS[38]; chain=A>\n",
      "HIS 117 HIE\n",
      "<Residue HIS[117]; chain=A>\n",
      "HIS 149 HIE\n",
      "<Residue HIS[149]; chain=A>\n",
      "HIS 155 HIE\n",
      "<Residue HIS[155]; chain=A>\n",
      "HIS 235 HIE\n",
      "<Residue HIS[235]; chain=A>\n",
      "HIS 300 HIE\n",
      "<Residue HIS[300]; chain=A>\n",
      "HIS 408 HIE\n",
      "<Residue HIS[408]; chain=A>\n"
     ]
    }
   ],
   "source": [
    "for item in M._modifications.items():\n",
    "    resname = item[0][0]\n",
    "    resnum = int(item[0][1])\n",
    "    new_resname = item[1]\n",
    "    print(resname, resnum, new_resname)\n",
    "    \n",
    "    r = struct.view[(struct_df.resname == resname) & (struct_df.resnum == resnum)].residues[0]\n",
    "    print(r)\n",
    "    # r.name = new_resname"
   ]
  },
  {
   "cell_type": "markdown",
   "id": "066fc22e",
   "metadata": {},
   "source": [
    "# 6. Topology and Coordinate Generation (using TLeap)"
   ]
  },
  {
   "cell_type": "code",
   "execution_count": null,
   "id": "29fc1ac9",
   "metadata": {},
   "outputs": [],
   "source": [
    "from prepare_protein import Tleap_bond_command, Program\n",
    "\n",
    "# --------------------------------------------------------------------------------\n",
    "# Generate \"protein.pdb\" and \"protein.pqr\" using tleap and ambpdb\n",
    "\n",
    "# using tleap to create parm7 and crd file\n",
    "tleap_script = '\\n'.join([\n",
    "    'set default PBradii mbondi2',\n",
    "    'source leaprc.protein.ff14SB',\n",
    "    'source leaprc.water.tip3p',\n",
    "    'protein = loadpdb {}'.format(tleap_pdb),\n",
    "] + Tleap_bond_command('protein', disulfide_bonds) + [\n",
    "    'saveamberparm protein {} {}'.format(protein_parm7, protein_crd),\n",
    "    'saveOff protein {}'.format(protein_lib),\n",
    "    'quit'\n",
    "])\n",
    "# output \n",
    "# ['set default PBradii mbondi2',\n",
    "#  'source leaprc.protein.ff14SB', # protein backbone and sidechain parameters\n",
    "#  'source leaprc.water.tip3p', # Forcefield for water\n",
    "#  'protein = loadpdb /md/tmp/tleap.pdb',\n",
    "#  'saveamberparm protein /md/tmp/protein.parm7 /md/tmp/protein.crd', \n",
    "# /usr/local/amber20/bin/teLeap: Warning!\n",
    "# The unperturbed charge of the unit (-4.000000) is not zero.  ?\n",
    "#  'saveOff protein /md/tmp/protein.lib',\n",
    "#  'quit']\n",
    "\n",
    "# At this step, we have not built the simulation box and added charge\n",
    "\n",
    "retcode = Program(\n",
    "    base_folder=work_folder,\n",
    "    # this argument is to save tleap_script in to tleap.in file\n",
    "    aux_scripts=[('tleap.in', tleap_script)], \n",
    "    \n",
    "    # This argument is just to run `/usr/local/amber20/bin/tleap -f tleap.in`\n",
    "    com_tokens=[(environ['TLEAP_EXE'],), ('-f', 'tleap.in')]\n",
    ")\n",
    "retcode_run = retcode.run()         \n",
    "retcode_run.check_returncode()"
   ]
  },
  {
   "cell_type": "code",
   "execution_count": 40,
   "id": "258ca0ee",
   "metadata": {},
   "outputs": [
    {
     "data": {
      "text/plain": [
       "'/usr/local/amber20/bin/tleap -f tleap.in'"
      ]
     },
     "execution_count": 40,
     "metadata": {},
     "output_type": "execute_result"
    }
   ],
   "source": [
    "retcode.command"
   ]
  },
  {
   "cell_type": "code",
   "execution_count": 37,
   "id": "209194d1",
   "metadata": {},
   "outputs": [
    {
     "name": "stdout",
     "output_type": "stream",
     "text": [
      "('tleap.in', 'set default PBradii mbondi2\\nsource leaprc.protein.ff14SB\\nsource leaprc.water.tip3p\\nprotein = loadpdb /md/tmp/tleap.pdb\\nsaveamberparm protein /md/tmp/protein.parm7 /md/tmp/protein.crd\\nsaveOff protein /md/tmp/protein.lib\\nquit')\n"
     ]
    }
   ],
   "source": [
    "for script in retcode.aux_scripts:\n",
    "    # retcode.write_script(script)\n",
    "    print(script)"
   ]
  },
  {
   "cell_type": "code",
   "execution_count": 35,
   "id": "3d8a092a",
   "metadata": {},
   "outputs": [
    {
     "data": {
      "text/plain": [
       "'/usr/local/amber20/bin/tleap -f tleap.in'"
      ]
     },
     "execution_count": 35,
     "metadata": {},
     "output_type": "execute_result"
    }
   ],
   "source": [
    "retcode.command"
   ]
  },
  {
   "cell_type": "code",
   "execution_count": 26,
   "id": "18958e69",
   "metadata": {},
   "outputs": [
    {
     "data": {
      "text/plain": [
       "['set default PBradii mbondi2',\n",
       " 'source leaprc.protein.ff14SB',\n",
       " 'source leaprc.water.tip3p',\n",
       " 'protein = loadpdb /md/tmp/tleap.pdb',\n",
       " 'saveamberparm protein /md/tmp/protein.parm7 /md/tmp/protein.crd',\n",
       " 'saveOff protein /md/tmp/protein.lib',\n",
       " 'quit']"
      ]
     },
     "execution_count": 26,
     "metadata": {},
     "output_type": "execute_result"
    }
   ],
   "source": [
    "tleap_script.split('\\n')"
   ]
  },
  {
   "cell_type": "code",
   "execution_count": 24,
   "id": "14f9821f",
   "metadata": {},
   "outputs": [
    {
     "data": {
      "text/plain": [
       "[]"
      ]
     },
     "execution_count": 24,
     "metadata": {},
     "output_type": "execute_result"
    }
   ],
   "source": [
    "Tleap_bond_command('protein', disulfide_bonds)"
   ]
  },
  {
   "cell_type": "code",
   "execution_count": 23,
   "id": "8464238d",
   "metadata": {},
   "outputs": [
    {
     "data": {
      "text/plain": [
       "'set default PBradii mbondi2\\nsource leaprc.protein.ff14SB\\nsource leaprc.water.tip3p\\nprotein = loadpdb /md/tmp/tleap.pdb\\nsaveamberparm protein /md/tmp/protein.parm7 /md/tmp/protein.crd\\nsaveOff protein /md/tmp/protein.lib\\nquit'"
      ]
     },
     "execution_count": 23,
     "metadata": {},
     "output_type": "execute_result"
    }
   ],
   "source": [
    "tleap_script"
   ]
  },
  {
   "cell_type": "markdown",
   "id": "695f38a5",
   "metadata": {},
   "source": [
    "# 7. PQR and PDB File Generation (using ambpdb)"
   ]
  },
  {
   "cell_type": "code",
   "execution_count": null,
   "id": "a29a7d7a",
   "metadata": {},
   "outputs": [
    {
     "name": "stdout",
     "output_type": "stream",
     "text": [
      "/usr/local/amber20/bin/ambpdb -p /md/tmp/protein.parm7 -pqr -bres -aatm < /md/tmp/protein.crd > /md/tmp/protein.pqr\n",
      "/usr/local/amber20/bin/ambpdb -p /md/tmp/protein.parm7 -bres -aatm < /md/tmp/protein.crd > /md/tmp/protein.pdb\n"
     ]
    }
   ],
   "source": [
    "# using ambpdb to create pqr file\n",
    "retcode = Program(\n",
    "    work_folder,\n",
    "    [],\n",
    "    [(environ['AMBPDB_EXE'],),\n",
    "        ('-p', protein_parm7),\n",
    "        ('-pqr',), # PQR format\n",
    "        ('-bres',),\n",
    "        ('-aatm',),\n",
    "        ('< {}'.format(protein_crd),),\n",
    "        ('> {}'.format(protein_pqr),)]\n",
    ")\n",
    "retcode_run = retcode.run()\n",
    "retcode_run.check_returncode()\n",
    "print(retcode.command)\n",
    "# Output /md/tmp/protein.pqr in pqr format\n",
    "# recordName serial atomName residueName residueNumber X Y Z charge radius\n",
    "# ex:\n",
    "# ATOM      1  N   THR     1      33.980  60.240  54.635  0.1812  1.5500       N  \n",
    "# We take the input as the coordinate and parameters, \n",
    "# then calculate the charge and radius for each atom\n",
    "\n",
    "# using ambpdb to create pdb file\n",
    "retcode = Program(\n",
    "    work_folder,\n",
    "    [],\n",
    "    [(environ['AMBPDB_EXE'],),\n",
    "        ('-p', protein_parm7),\n",
    "        ('-bres',),\n",
    "        ('-aatm',),\n",
    "        ('< {}'.format(protein_crd),),\n",
    "        ('> {}'.format(protein_pdb),)]\n",
    ")\n",
    "retcode_run = retcode.run()\n",
    "retcode_run.check_returncode()\n",
    "print(retcode.command)\n",
    "# Add hydrogen\n",
    "# Turn HIE to HIS, meaning that amber may accept only standard residue???\n"
   ]
  },
  {
   "cell_type": "markdown",
   "id": "3adede20",
   "metadata": {},
   "source": [
    "# 8. PDBQT File Generation (using AutoDockTools)"
   ]
  },
  {
   "cell_type": "code",
   "execution_count": 18,
   "id": "b589cae4",
   "metadata": {},
   "outputs": [
    {
     "name": "stdout",
     "output_type": "stream",
     "text": [
      "setting PYTHONHOME environment\n"
     ]
    }
   ],
   "source": [
    "# --------------------------------------------------------------------------------\n",
    "# using autodocktools to create pqbqt file (NO TEST)\n",
    "retcode = Program(\n",
    "    work_folder,\n",
    "    [],\n",
    "    [(environ['PYTHONSH_EXE'],),\n",
    "        (os.path.join(environ['UTILITIES24'], 'prepare_receptor4.py'),),\n",
    "        ('-r', protein_pqr),\n",
    "        ('-o', protein_pdbqt),\n",
    "        ('-C',)]\n",
    ").run()\n",
    "retcode.check_returncode()"
   ]
  }
 ],
 "metadata": {
  "kernelspec": {
   "display_name": "Python 3 (ipykernel)",
   "language": "python",
   "name": "python3"
  },
  "language_info": {
   "codemirror_mode": {
    "name": "ipython",
    "version": 3
   },
   "file_extension": ".py",
   "mimetype": "text/x-python",
   "name": "python",
   "nbconvert_exporter": "python",
   "pygments_lexer": "ipython3",
   "version": "3.7.11"
  }
 },
 "nbformat": 4,
 "nbformat_minor": 5
}
