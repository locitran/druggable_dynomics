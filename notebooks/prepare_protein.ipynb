{
 "cells": [
  {
   "cell_type": "code",
   "execution_count": null,
   "id": "9b2180ed",
   "metadata": {},
   "outputs": [],
   "source": [
    "import os\n",
    "import re\n",
    "import sys\n",
    "import getopt\n",
    "import numpy\n",
    "import scipy\n",
    "import dotenv\n",
    "import parmed\n",
    "import pytraj\n",
    "import pathlib\n",
    "import itertools\n",
    "import subprocess\n",
    "import scipy.spatial\n",
    "import subprocess as sp\n",
    "\n",
    "work_folder = '/md/tmp'\n",
    "# output files\n",
    "image_pdb = os.path.join(work_folder,'image.pdb')\n",
    "trim_pdb = os.path.join(work_folder,'trim.pdb') # for reduce\n",
    "reduce_pdb = os.path.join(work_folder,'reduce.pdb')\n",
    "reduce_log = os.path.join(work_folder,'reduce.log')\n",
    "image_pka = os.path.join(work_folder,'image.pka')\n",
    "image_propka_input = os.path.join(work_folder,'image.propka_input')\n",
    "tleap_pdb = os.path.join(work_folder,'tleap.pdb')\n",
    "protein_parm7 = os.path.join(work_folder,'protein.parm7')\n",
    "protein_crd = os.path.join(work_folder,'protein.crd')\n",
    "protein_lib = os.path.join(work_folder,'protein.lib')\n",
    "protein_pqr = os.path.join(work_folder,'protein.pqr')\n",
    "protein_pdb = os.path.join(work_folder,'protein.pdb')\n",
    "protein_pdbqt = os.path.join(work_folder,'protein.pdbqt')\n",
    "\n",
    "ENV_FILE_PATH = '/md/.env'\n",
    "dotenv.load_dotenv(str(ENV_FILE_PATH))\n",
    "environ = os.environ"
   ]
  },
  {
   "cell_type": "code",
   "execution_count": 19,
   "id": "fd648cc9",
   "metadata": {},
   "outputs": [],
   "source": [
    "os.makedirs('/md/tmp', exist_ok=True)"
   ]
  },
  {
   "cell_type": "markdown",
   "id": "0639e7ca",
   "metadata": {},
   "source": [
    "# 1. Initial PDB Preparation and Renumbering\n"
   ]
  },
  {
   "cell_type": "code",
   "execution_count": null,
   "id": "4c34fcb3",
   "metadata": {},
   "outputs": [],
   "source": [
    "model_pdb = '/md/output/2SRC/model.pdb'\n",
    "# --------------------------------------------------------------------------------\n",
    "# Extract protein from \"model.pdb\".\n",
    "# Residue numbers are reorder at this stage.\n",
    "struct = parmed.load_file(model_pdb)\n",
    "struct.save(image_pdb, format='PDB', renumber=True, standard_resnames=True, overwrite=True)"
   ]
  },
  {
   "cell_type": "markdown",
   "id": "69ab7b4e",
   "metadata": {},
   "source": [
    "# 2. Hydrogen Addition and Histidine Protonation (using Reduce)"
   ]
  },
  {
   "cell_type": "code",
   "execution_count": null,
   "id": "1b4d6e2a",
   "metadata": {},
   "outputs": [],
   "source": [
    "from prepare_protein import pytraj_detect_Reduce_HIX\n",
    "\n",
    "# --------------------------------------------------------------------------------\n",
    "# Run Reduce and get modificated residues.\n",
    "# Not using the flipped pdb (\"reduce_pdb\") in the following steps\n",
    "# to preserve the original orientation of residues.\n",
    "command = '{} -Trim {} > {} 2> {}'.format(environ['REDUCE_EXE'], image_pdb, trim_pdb, reduce_log)\n",
    "os.system(command)\n",
    "command = '{} -BUILD -FLIP {} > {} 2> {}'.format(environ['REDUCE_EXE'], trim_pdb, reduce_pdb, reduce_log)\n",
    "os.system(command)\n",
    "\n",
    "traj_reduce = pytraj.load(reduce_pdb)\n",
    "reduce_modifications = pytraj_detect_Reduce_HIX(traj_reduce.top)"
   ]
  },
  {
   "cell_type": "markdown",
   "id": "91861fa4",
   "metadata": {},
   "source": [
    "# 3. Ionizable Residue Protonation State Determination (using Propka)"
   ]
  },
  {
   "cell_type": "code",
   "execution_count": 13,
   "id": "5d42b6bf",
   "metadata": {},
   "outputs": [],
   "source": [
    "from prepare_protein import Propka_get_propka_Amber_protonation_state\n",
    "# --------------------------------------------------------------------------------\n",
    "# Run propka31 and get modificated residues\n",
    "command = '{} {}'.format(environ['PROPKA31_EXE'], image_pdb)\n",
    "child = sp.Popen(command.split(), stdin=sp.PIPE, stdout=sp.PIPE, stderr=sp.PIPE, cwd=work_folder)\n",
    "child.communicate()\n",
    "#     os.system(command)\n",
    "\n",
    "propka_modifications = Propka_get_propka_Amber_protonation_state(image_pka)"
   ]
  },
  {
   "cell_type": "markdown",
   "id": "7d60f488",
   "metadata": {},
   "source": [
    "# 4. Disulfide Bond Detection"
   ]
  },
  {
   "cell_type": "code",
   "execution_count": 14,
   "id": "05171e59",
   "metadata": {},
   "outputs": [],
   "source": [
    "from prepare_protein import pytraj_detect_disulfide_bond\n",
    "# --------------------------------------------------------------------------------\n",
    "# detect disulfide bonds and get modificated residues\n",
    "traj_image = pytraj.load(image_pdb)\n",
    "disulfide_modifications, disulfide_bonds = pytraj_detect_disulfide_bond(traj_image.top, traj_image.xyz[0])"
   ]
  },
  {
   "cell_type": "markdown",
   "id": "125064e9",
   "metadata": {},
   "source": [
    "# 5. Generating TLeap-ready PDB"
   ]
  },
  {
   "cell_type": "code",
   "execution_count": 15,
   "id": "656b5f4c",
   "metadata": {},
   "outputs": [],
   "source": [
    "from prepare_protein import ParmEdPDBResnameModifier\n",
    "\n",
    "# --------------------------------------------------------------------------------\n",
    "# Generate modified pdb, \"tleap.pdb\", ready for tleap\n",
    "struct_image = parmed.load_file(image_pdb)\n",
    "\n",
    "M = ParmEdPDBResnameModifier(struct_image)\n",
    "M.add_modifications(reduce_modifications)\n",
    "M.add_modifications(propka_modifications)\n",
    "M.add_modifications(disulfide_modifications)\n",
    "#print(M.modifications)\n",
    "\n",
    "struct_tleap = M.apply_modifications()['!@H=']\n",
    "struct_tleap.save(tleap_pdb, format='PDB', overwrite=True)"
   ]
  },
  {
   "cell_type": "markdown",
   "id": "066fc22e",
   "metadata": {},
   "source": [
    "# 6. Topology and Coordinate Generation (using TLeap)"
   ]
  },
  {
   "cell_type": "code",
   "execution_count": null,
   "id": "29fc1ac9",
   "metadata": {},
   "outputs": [
    {
     "name": "stdout",
     "output_type": "stream",
     "text": [
      "-I: Adding /usr/local/amber20/dat/leap/prep to search path.\n",
      "-I: Adding /usr/local/amber20/dat/leap/lib to search path.\n",
      "-I: Adding /usr/local/amber20/dat/leap/parm to search path.\n",
      "-I: Adding /usr/local/amber20/dat/leap/cmd to search path.\n",
      "-f: Source tleap.in.\n",
      "\n",
      "Welcome to LEaP!\n",
      "(no leaprc in search path)\n",
      "Sourcing: ./tleap.in\n",
      "Using H(N)-modified Bondi radii\n",
      "----- Source: /usr/local/amber20/dat/leap/cmd/leaprc.protein.ff14SB\n",
      "----- Source of /usr/local/amber20/dat/leap/cmd/leaprc.protein.ff14SB done\n",
      "Log file: ./leap.log\n",
      "Loading parameters: /usr/local/amber20/dat/leap/parm/parm10.dat\n",
      "Reading title:\n",
      "PARM99 + frcmod.ff99SB + frcmod.parmbsc0 + OL3 for RNA\n",
      "Loading parameters: /usr/local/amber20/dat/leap/parm/frcmod.ff14SB\n",
      "Reading force field modification type file (frcmod)\n",
      "Reading title:\n",
      "ff14SB protein backbone and sidechain parameters\n",
      "Loading library: /usr/local/amber20/dat/leap/lib/amino12.lib\n",
      "Loading library: /usr/local/amber20/dat/leap/lib/aminoct12.lib\n",
      "Loading library: /usr/local/amber20/dat/leap/lib/aminont12.lib\n",
      "----- Source: /usr/local/amber20/dat/leap/cmd/leaprc.water.tip3p\n",
      "----- Source of /usr/local/amber20/dat/leap/cmd/leaprc.water.tip3p done\n",
      "Loading library: /usr/local/amber20/dat/leap/lib/atomic_ions.lib\n",
      "Loading library: /usr/local/amber20/dat/leap/lib/solvents.lib\n",
      "Loading parameters: /usr/local/amber20/dat/leap/parm/frcmod.tip3p\n",
      "Reading force field modification type file (frcmod)\n",
      "Reading title:\n",
      "This is the additional/replacement parameter set for TIP3P water\n",
      "Loading parameters: /usr/local/amber20/dat/leap/parm/frcmod.ions1lm_126_tip3p\n",
      "Reading force field modification type file (frcmod)\n",
      "Reading title:\n",
      "Li/Merz ion parameters of monovalent ions for TIP3P water model (12-6 normal usage set)\n",
      "Loading parameters: /usr/local/amber20/dat/leap/parm/frcmod.ionsjc_tip3p\n",
      "Reading force field modification type file (frcmod)\n",
      "Reading title:\n",
      "Monovalent ion parameters for Ewald and TIP3P water from Joung & Cheatham JPCB (2008)\n",
      "Loading parameters: /usr/local/amber20/dat/leap/parm/frcmod.ions234lm_126_tip3p\n",
      "Reading force field modification type file (frcmod)\n",
      "Reading title:\n",
      "Li/Merz ion parameters of divalent to tetravalent ions for TIP3P water model (12-6 normal usage set)\n",
      "Loading PDB file: /md/tmp/tleap.pdb\n",
      "  total atoms in file: 3608\n",
      "  Leap added 3552 missing atoms according to residue templates:\n",
      "       3552 H / lone pairs\n",
      "Checking Unit.\n",
      "\n",
      "/usr/local/amber20/bin/teLeap: Warning!\n",
      "The unperturbed charge of the unit (-4.000000) is not zero.\n",
      "\n",
      "/usr/local/amber20/bin/teLeap: Note.\n",
      "Ignoring the warning from Unit Checking.\n",
      "\n",
      "Building topology.\n",
      "Building atom parameters.\n",
      "Building bond parameters.\n",
      "Building angle parameters.\n",
      "Building proper torsion parameters.\n",
      "Building improper torsion parameters.\n",
      " total 1481 improper torsions applied\n",
      "Building H-Bond parameters.\n",
      "Incorporating Non-Bonded adjustments.\n",
      "Not Marking per-residue atom chain types.\n",
      "Marking per-residue atom chain types.\n",
      "  (Residues lacking connect0/connect1 - \n",
      "   these don't have chain types marked:\n",
      "\n",
      "\tres\ttotal affected\n",
      "\n",
      "\tCLEU\t1\n",
      "\tNTHR\t1\n",
      "  )\n",
      " (no restraints)\n",
      " Creating /md/tmp/protein.lib\n",
      "Building topology.\n",
      "Building atom parameters.\n",
      "\tQuit\n",
      "\n",
      "Exiting LEaP: Errors = 0; Warnings = 1; Notes = 1.\n"
     ]
    }
   ],
   "source": [
    "from prepare_protein import Tleap_bond_command, Program\n",
    "\n",
    "# --------------------------------------------------------------------------------\n",
    "# Generate \"protein.pdb\" and \"protein.pqr\" using tleap and ambpdb\n",
    "\n",
    "# using tleap to create parm7 and crd file\n",
    "tleap_script = '\\n'.join([\n",
    "    'set default PBradii mbondi2',\n",
    "    'source leaprc.protein.ff14SB',\n",
    "    'source leaprc.water.tip3p',\n",
    "    'protein = loadpdb {}'.format(tleap_pdb),\n",
    "] + Tleap_bond_command('protein', disulfide_bonds) + [\n",
    "    'saveamberparm protein {} {}'.format(protein_parm7, protein_crd),\n",
    "    'saveOff protein {}'.format(protein_lib),\n",
    "    'quit'\n",
    "])\n",
    "\n",
    "retcode = Program(\n",
    "    work_folder,\n",
    "    [('tleap.in', tleap_script)],\n",
    "    [(environ['TLEAP_EXE'],),\n",
    "        ('-f', 'tleap.in')]\n",
    ").run()\n",
    "retcode.check_returncode()"
   ]
  },
  {
   "cell_type": "markdown",
   "id": "695f38a5",
   "metadata": {},
   "source": [
    "# 7. PQR and PDB File Generation (using ambpdb)"
   ]
  },
  {
   "cell_type": "code",
   "execution_count": 17,
   "id": "a29a7d7a",
   "metadata": {},
   "outputs": [],
   "source": [
    "# using ambpdb to create pqr file\n",
    "retcode = Program(\n",
    "    work_folder,\n",
    "    [],\n",
    "    [(environ['AMBPDB_EXE'],),\n",
    "        ('-p', protein_parm7),\n",
    "        ('-pqr',),\n",
    "        ('-bres',),\n",
    "        ('-aatm',),\n",
    "        ('< {}'.format(protein_crd),),\n",
    "        ('> {}'.format(protein_pqr),)]\n",
    ").run()\n",
    "retcode.check_returncode()\n",
    "\n",
    "# using ambpdb to create pdb file\n",
    "retcode = Program(\n",
    "    work_folder,\n",
    "    [],\n",
    "    [(environ['AMBPDB_EXE'],),\n",
    "        ('-p', protein_parm7),\n",
    "        ('-bres',),\n",
    "        ('-aatm',),\n",
    "        ('< {}'.format(protein_crd),),\n",
    "        ('> {}'.format(protein_pdb),)]\n",
    ").run()\n",
    "retcode.check_returncode()"
   ]
  },
  {
   "cell_type": "markdown",
   "id": "3adede20",
   "metadata": {},
   "source": [
    "# 8. PDBQT File Generation (using AutoDockTools)"
   ]
  },
  {
   "cell_type": "code",
   "execution_count": 18,
   "id": "b589cae4",
   "metadata": {},
   "outputs": [
    {
     "name": "stdout",
     "output_type": "stream",
     "text": [
      "setting PYTHONHOME environment\n"
     ]
    }
   ],
   "source": [
    "# --------------------------------------------------------------------------------\n",
    "# using autodocktools to create pqbqt file (NO TEST)\n",
    "retcode = Program(\n",
    "    work_folder,\n",
    "    [],\n",
    "    [(environ['PYTHONSH_EXE'],),\n",
    "        (os.path.join(environ['UTILITIES24'], 'prepare_receptor4.py'),),\n",
    "        ('-r', protein_pqr),\n",
    "        ('-o', protein_pdbqt),\n",
    "        ('-C',)]\n",
    ").run()\n",
    "retcode.check_returncode()"
   ]
  }
 ],
 "metadata": {
  "kernelspec": {
   "display_name": "Python 3 (ipykernel)",
   "language": "python",
   "name": "python3"
  },
  "language_info": {
   "codemirror_mode": {
    "name": "ipython",
    "version": 3
   },
   "file_extension": ".py",
   "mimetype": "text/x-python",
   "name": "python",
   "nbconvert_exporter": "python",
   "pygments_lexer": "ipython3",
   "version": "3.7.11"
  }
 },
 "nbformat": 4,
 "nbformat_minor": 5
}
